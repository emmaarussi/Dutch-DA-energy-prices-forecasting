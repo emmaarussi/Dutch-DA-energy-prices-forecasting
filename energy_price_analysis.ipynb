{
 "cells": [
  {
   "cell_type": "markdown",
   "metadata": {},
   "source": [
    "# Energy Price Analysis and Forecasting\n",
    "\n",
    "This notebook demonstrates how to work with the energy price forecasting model."
   ]
  },
  {
   "cell_type": "code",
   "execution_count": null,
   "metadata": {},
   "source": [
    "import pandas as pd\n",
    "import numpy as np\n",
    "import matplotlib.pyplot as plt\n",
    "import seaborn as sns\n",
    "from datetime import datetime, timedelta\n",
    "import xgboost as xgb\n",
    "from prepare_features import (\n",
    "    create_time_features,\n",
    "    create_holiday_features,\n",
    "    create_lag_features,\n",
    "    create_target_features,\n",
    "    prepare_features_for_training\n",
    ")\n",
    "from utils import (\n",
    "    calculate_metrics,\n",
    "    plot_feature_importance,\n",
    "    plot_predictions,\n",
    "    plot_error_distribution,\n",
    "    TimeSeriesCV\n",
    ")\n",
    "\n",
    "# Set plotting style\n",
    "plt.style.use('default')\n",
    "sns.set_palette('husl')\n",
    "%matplotlib inline"
   ]
  },
  {
   "cell_type": "markdown",
   "metadata": {},
   "source": [
    "## Load and Explore the Data"
   ]
  },
  {
   "cell_type": "code",
   "execution_count": null,
   "metadata": {},
   "source": [
    "# Load raw prices\n",
    "raw_prices = pd.read_csv('data/raw_prices.csv')\n",
    "raw_prices['timestamp'] = pd.to_datetime(raw_prices['timestamp'])\n",
    "raw_prices.set_index('timestamp', inplace=True)\n",
    "\n",
    "# Display basic information\n",
    "print(\"Dataset Info:\")\n",
    "print(f\"Time range: {raw_prices.index.min()} to {raw_prices.index.max()}\")\n",
    "print(f\"Number of records: {len(raw_prices)}\")\n",
    "print(\"\\nSample data:\")\n",
    "raw_prices.head()"
   ]
  },
  {
   "cell_type": "markdown",
   "metadata": {},
   "source": [
    "## Load Pre-processed Features"
   ]
  },
  {
   "cell_type": "code",
   "execution_count": null,
   "metadata": {},
   "source": [
    "# Load preprocessed features\n",
    "features = pd.read_csv('data/features_scaled.csv')\n",
    "features['timestamp'] = pd.to_datetime(features['timestamp'])\n",
    "features.set_index('timestamp', inplace=True)\n",
    "\n",
    "print(\"Available features:\")\n",
    "for col in features.columns:\n",
    "    print(f\"- {col}\")"
   ]
  },
  {
   "cell_type": "markdown",
   "metadata": {},
   "source": [
    "## Create Custom Features\n",
    "\n",
    "You can create additional features using the provided functions:"
   ]
  },
  {
   "cell_type": "code",
   "execution_count": null,
   "metadata": {},
   "source": [
    "# Example: Create custom time features\n",
    "custom_time_features = create_time_features(raw_prices)\n",
    "custom_time_features.head()"
   ]
  },
  {
   "cell_type": "markdown",
   "metadata": {},
   "source": [
    "## Load and Use Trained Models"
   ]
  },
  {
   "cell_type": "code",
   "execution_count": null,
   "metadata": {},
   "source": [
    "# Load a model for a specific horizon (e.g., 1-hour ahead)\n",
    "horizon = 1\n",
    "model = xgb.XGBRegressor()\n",
    "model.load_model(f'data/models/model_h{horizon}.json')\n",
    "\n",
    "# Get feature importance\n",
    "feature_cols = [col for col in features.columns if not col.startswith('target_')]\n",
    "importance = pd.DataFrame({\n",
    "    'feature': feature_cols,\n",
    "    'importance': model.feature_importances_\n",
    "})\n",
    "\n",
    "# Plot feature importance\n",
    "plot_feature_importance(importance, title=f'Feature Importance (t+{horizon} horizon)')"
   ]
  },
  {
   "cell_type": "markdown",
   "metadata": {},
   "source": [
    "## Make Predictions"
   ]
  },
  {
   "cell_type": "code",
   "execution_count": null,
   "metadata": {},
   "source": [
    "# Get the last 48 hours of data\n",
    "recent_data = features.tail(48)\n",
    "\n",
    "# Make predictions\n",
    "X = recent_data[feature_cols]\n",
    "y_true = recent_data[f'target_t{horizon}']\n",
    "y_pred = model.predict(X)\n",
    "\n",
    "# Plot predictions\n",
    "plt.figure(figsize=(15, 6))\n",
    "plt.plot(y_true.index, y_true.values, label='Actual', alpha=0.7)\n",
    "plt.plot(y_true.index, y_pred, label='Predicted', alpha=0.7)\n",
    "plt.title(f'Actual vs Predicted Prices (t+{horizon} horizon)')\n",
    "plt.xlabel('Time')\n",
    "plt.ylabel('Price (€/MWh)')\n",
    "plt.legend()\n",
    "plt.grid(True)\n",
    "plt.show()\n",
    "\n",
    "# Print metrics\n",
    "metrics = calculate_metrics(y_true, y_pred)\n",
    "print(\"\\nPrediction Metrics:\")\n",
    "for metric, value in metrics.items():\n",
    "    print(f\"{metric}: {value:.2f}\")"
   ]
  },
  {
   "cell_type": "markdown",
   "metadata": {},
   "source": [
    "## Experiment with New Features\n",
    "\n",
    "You can create new features and retrain the model:"
   ]
  },
  {
   "cell_type": "code",
   "execution_count": null,
   "metadata": {},
   "source": [
    "def create_custom_features(df):\n",
    "    \"\"\"Add your custom features here\"\"\"\n",
    "    features = pd.DataFrame(index=df.index)\n",
    "    \n",
    "    # Example: Add price momentum features\n",
    "    features['price_momentum_3h'] = df['price_eur_per_mwh'].pct_change(3)\n",
    "    features['price_momentum_6h'] = df['price_eur_per_mwh'].pct_change(6)\n",
    "    \n",
    "    return features\n",
    "\n",
    "# Create and view new features\n",
    "custom_features = create_custom_features(raw_prices)\n",
    "custom_features.head()"
   ]
  }
 ],
 "metadata": {
  "kernelspec": {
   "display_name": "Python 3",
   "language": "python",
   "name": "python3"
  },
  "language_info": {
   "codemirror_mode": {
    "name": "ipython",
    "version": 3
   },
   "file_extension": ".py",
   "mimetype": "text/x-python",
   "name": "python",
   "nbconvert_exporter": "python",
   "pygments_lexer": "ipython3",
   "version": "3.9.0"
  }
 },
 "nbformat": 4,
 "nbformat_minor": 4
}
